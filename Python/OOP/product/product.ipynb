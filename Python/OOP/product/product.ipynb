{
 "cells": [
  {
   "cell_type": "markdown",
   "metadata": {},
   "source": [
    "# Assignment: Product\n",
    "## Objectives:\n",
    "\n",
    "  * Practice creating a class and making instances from it\n",
    "  * Practice accessing the methods and attributes of different instances\n",
    "  * Practice altering an instance's attributes\n",
    "\n",
    "The owner of a store wants a program to track products. Create a `Product` class to fill the following requirements.\n",
    "\n",
    "## Product Class:\n",
    "\n",
    "### Attributes:\n",
    "\n",
    "  * `price`\n",
    "  * `item_name`\n",
    "  * `weight`\n",
    "  * `brand`\n",
    "  * `status`, defaults to `\"for_sale\"`\n",
    "\n",
    "### Methods:\n",
    "\n",
    "  * `sell()`: changes status to `\"sold\"`\n",
    "  * `add_tax()`: takes `tax` as a decimal amount as a parameter and returns the `price` of the item including sales tax\n",
    "  * `return_item()`: takes `reason_for_return` as a parameter and changes `status` accordingly. If the item is being returned because it is defective, change status to `\"defective\"` and change `price` to `0`. If it is being returned in the box, like new, mark it `\"for sale\"`. If the box has been opened, set the status to `\"used\"` and apply a 20% discount.  (use `\"defective\"`, `\"like_new\"`, or `\"opened\"` as three possible value for `reason_for_return`)\n",
    "  * `display_info()`: show all product details\n",
    "\n",
    "Every method that doesn't have to return something should return self so methods can be chained.\n"
   ]
  },
  {
   "cell_type": "code",
   "execution_count": 19,
   "metadata": {},
   "outputs": [
    {
     "name": "stdout",
     "output_type": "stream",
     "text": [
      "Item name: milk\n",
      "Brand: Borden\n",
      "Price: $3.29\n",
      "Weight: 0.85kg\n",
      "Item status: for_sale\n",
      "\n",
      "\n",
      "Item name: milk\n",
      "Brand: Borden\n",
      "Price: $3.57\n",
      "Weight: 0.85kg\n",
      "Item status: for_sale\n",
      "\n",
      "\n",
      "Item name: milk\n",
      "Brand: Borden\n",
      "Price: $3.57\n",
      "Weight: 0.85kg\n",
      "Item status: sold\n",
      "\n",
      "\n",
      "Item name: milk\n",
      "Brand: Borden\n",
      "Price: $2.86\n",
      "Weight: 0.85kg\n",
      "Item status: used\n",
      "\n",
      "\n"
     ]
    },
    {
     "data": {
      "text/plain": [
       "<__main__.Product at 0x1054d32b0>"
      ]
     },
     "execution_count": 19,
     "metadata": {},
     "output_type": "execute_result"
    }
   ],
   "source": [
    "class Product:\n",
    "    def __init__(self, item_name, brand, price, weight):\n",
    "        self.__item_name = item_name\n",
    "        self.__brand = brand\n",
    "        self.__price = price\n",
    "        self.__weight = weight\n",
    "        self.__status = \"for_sale\"\n",
    "        \n",
    "    def sell(self):\n",
    "        self.__status = \"sold\"\n",
    "        return self\n",
    "        \n",
    "    def add_tax(self, tax):\n",
    "        self.__price = round(self.__price * (1 + tax), 2)\n",
    "        return self\n",
    "    \n",
    "    def return_item(self, reason):\n",
    "        (self.__status, self.__price) = self.__get_reason(reason)\n",
    "        return self\n",
    "    \n",
    "    def __get_reason(self, reason):\n",
    "        return {\n",
    "            \"defective\": (\"defective\", 0),\n",
    "            \"like_new\": (\"for_sale\", self.__price),\n",
    "            \"opened\": (\"used\", round(self.__price - (self.__price * 0.2), 2))\n",
    "        }.get(reason, \"like_new\")\n",
    "    \n",
    "    def display_info(self):\n",
    "        print((f'Item name: {self.__item_name}\\n'\n",
    "        f'Brand: {self.__brand}\\n'\n",
    "        f'Price: $' + '{:,.2f}'.format(self.__price) + '\\n'\n",
    "        f'Weight: {self.__weight}kg\\n'\n",
    "        f'Item status: {self.__status}\\n\\n'))\n",
    "        return self\n",
    "    \n",
    "\n",
    "milk = Product(\"milk\", \"Borden\", 3.29, 0.85)\n",
    "\n",
    "\n",
    "milk.display_info()\n",
    "milk.add_tax(0.085).display_info()\n",
    "milk.sell().display_info()\n",
    "milk.return_item(\"opened\").display_info()"
   ]
  },
  {
   "cell_type": "markdown",
   "metadata": {},
   "source": [
    "# This was ridiculously fun to code!!!"
   ]
  }
 ],
 "metadata": {
  "kernelspec": {
   "display_name": "Python 3",
   "language": "python",
   "name": "python3"
  },
  "language_info": {
   "codemirror_mode": {
    "name": "ipython",
    "version": 3
   },
   "file_extension": ".py",
   "mimetype": "text/x-python",
   "name": "python",
   "nbconvert_exporter": "python",
   "pygments_lexer": "ipython3",
   "version": "3.6.5"
  }
 },
 "nbformat": 4,
 "nbformat_minor": 2
}
