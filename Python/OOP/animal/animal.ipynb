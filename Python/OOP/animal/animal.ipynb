{
 "cells": [
  {
   "cell_type": "markdown",
   "metadata": {},
   "source": [
    "\n",
    "# Assignment: Animal\n",
    "\n",
    "## Objectives:\n",
    "\n",
    "  + Practice creating classes that inherit from another class\n",
    "  + Practice customizing children classes\n",
    "  + Practice having children classes call methods from the parent class\n",
    "\n",
    "Create an `Animal` class and give it the below attributes and methods. Extend the `Animal` class to two child classes, `Dog` and `Dragon`.\n",
    "\n",
    "The objective of this assignment is to help you understand inheritance. Remember that a class is more than just a collection of properties and methods. If you want to create a new class with attributes and methods that are already defined in another class, you can have this new class inherit from that other class (called the parent) instead of copying and pasting code from the original class. Child classes can access all the attributes and methods of a parent class AND have new attributes and methods of its own, for child instances to call. As we see with Wizard / Ninja / Samurai (that are each descended from Human), we can have numerous unique child classes that inherit from the same parent class.\n",
    "\n",
    "## `Animal` Class\n",
    "\n",
    "### Attributes:\n",
    "\n",
    "  + `name`\n",
    "\n",
    "  + `health`\n",
    "\n",
    "### Methods:\n",
    "\n",
    "  + `walk()`: decreases `health` by 1\n",
    "\n",
    "  + `run()`: decreases `health` by 5\n",
    "\n",
    "  + `display_health`: print to the terminal the animal's `health`.\n",
    "\n",
    "Create an instance of the `Animal`, have it `walk()` three times, `run()` twice, and finally `display_health()` to confirm that the `health` attribute has changed.\n",
    "\n",
    "## `Dog` Class\n",
    "\n",
    "  + inherits everything from `Animal`\n",
    "\n",
    "### Attributes:\n",
    "\n",
    "  + default `health` of 150\n",
    "\n",
    "### Methods:\n",
    "\n",
    "  + `pet()`: increases health by 5\n",
    "\n",
    "Have the `Dog` `walk()` three times, `run()` twice, `pet()` once, and have it `display_health()`.\n",
    "\n",
    "## `Dragon` Class\n",
    "\n",
    "  + inherits everything from `Animal`\n",
    "\n",
    "### Attributes:\n",
    "\n",
    "  + default `health` of 170\n",
    "\n",
    "### Methods:\n",
    "\n",
    "  + `fly()`: decreases health by 10\n",
    "\n",
    "  + `display_health`: prints health by calling the parent method and prints \"I am a Dragon\"\n",
    "\n",
    "Now try creating a new `Animal` and confirm that it can not call the `pet()` and `fly()` methods, and its `display_health()` is not saying 'this is a dragon!'. Also confirm that your `Dog` class can not `fly()`.\n"
   ]
  },
  {
   "cell_type": "code",
   "execution_count": 3,
   "metadata": {},
   "outputs": [
    {
     "name": "stdout",
     "output_type": "stream",
     "text": [
      "Name: Monsieur Kitty. Health: 986.\n"
     ]
    },
    {
     "data": {
      "text/plain": [
       "<__main__.Animal at 0x10b516d68>"
      ]
     },
     "execution_count": 3,
     "metadata": {},
     "output_type": "execute_result"
    }
   ],
   "source": [
    "class Animal:\n",
    "    def __init__(self, name, health):\n",
    "        self.__name = name\n",
    "        self.__health = health\n",
    "    \n",
    "    \n",
    "    def walk(self):\n",
    "        self.__health -= 1\n",
    "        return self\n",
    "    \n",
    "        \n",
    "    def run(self):\n",
    "        self.__health -= 5\n",
    "        return self\n",
    "    \n",
    "        \n",
    "    def display_health(self):\n",
    "        print(f'Name: {self.__name}. Health: {self.__health}.')\n",
    "        return self\n",
    "    \n",
    "    \n",
    "monsieur_kitty = Animal(\"Monsieur Kitty\", 999)\n",
    "monsieur_kitty.walk().walk().walk().run().run().display_health()"
   ]
  },
  {
   "cell_type": "code",
   "execution_count": 12,
   "metadata": {},
   "outputs": [
    {
     "name": "stdout",
     "output_type": "stream",
     "text": [
      "Name: Pollux. Health: 137.\n"
     ]
    },
    {
     "data": {
      "text/plain": [
       "<__main__.Dog at 0x10b5322b0>"
      ]
     },
     "execution_count": 12,
     "metadata": {},
     "output_type": "execute_result"
    }
   ],
   "source": [
    "class Dog(Animal):\n",
    "    def __init__(self, name, health=150):\n",
    "        super().__init__(name, health)\n",
    "        self.__name = name\n",
    "        self.__health = health\n",
    "        \n",
    "        \n",
    "    def pet(self):\n",
    "        self.__health += 5\n",
    "        return self\n",
    "    \n",
    "    \n",
    "mister_dog = Dog(\"Pollux\")\n",
    "mister_dog.walk().walk().walk().run().run().pet().display_health()"
   ]
  },
  {
   "cell_type": "code",
   "execution_count": 13,
   "metadata": {},
   "outputs": [
    {
     "name": "stdout",
     "output_type": "stream",
     "text": [
      "Name: Rawr. Health: 157.\n",
      "I AM A DRAGON!\n"
     ]
    },
    {
     "data": {
      "text/plain": [
       "<__main__.Dragon at 0x10b52c5f8>"
      ]
     },
     "execution_count": 13,
     "metadata": {},
     "output_type": "execute_result"
    }
   ],
   "source": [
    "class Dragon(Animal):\n",
    "    def __init__(self, name, health=170):\n",
    "        super().__init__(name, health)\n",
    "        self.__name = name\n",
    "        self.__health = health\n",
    "        \n",
    "        \n",
    "    def fly(self):\n",
    "        self.__health -= 10\n",
    "        return self\n",
    "    \n",
    "    \n",
    "    def display_health(self):\n",
    "        super().display_health()\n",
    "        print(\"I AM A DRAGON!\")\n",
    "        return self\n",
    "    \n",
    "    \n",
    "madame_dragon = Dragon(\"Rawr\")\n",
    "madame_dragon.walk().walk().walk().run().run().fly().display_health()"
   ]
  },
  {
   "cell_type": "code",
   "execution_count": 22,
   "metadata": {},
   "outputs": [
    {
     "name": "stdout",
     "output_type": "stream",
     "text": [
      "'Dragon' object has no attribute 'pet'\n"
     ]
    }
   ],
   "source": [
    "try:\n",
    "    madame_dragon.pet()\n",
    "except AttributeError as err:\n",
    "    print(f'{err}')"
   ]
  },
  {
   "cell_type": "code",
   "execution_count": 23,
   "metadata": {},
   "outputs": [
    {
     "name": "stdout",
     "output_type": "stream",
     "text": [
      "'Animal' object has no attribute 'pet'\n",
      "'Animal' object has no attribute 'fly'\n",
      "Name: Cthulhu. Health: 499995.\n"
     ]
    },
    {
     "data": {
      "text/plain": [
       "<__main__.Animal at 0x10b508e80>"
      ]
     },
     "execution_count": 23,
     "metadata": {},
     "output_type": "execute_result"
    }
   ],
   "source": [
    "cthulhu = Animal(\"Cthulhu\", 500000)\n",
    "\n",
    "\n",
    "try:\n",
    "    cthulhu.pet()\n",
    "except AttributeError as err:\n",
    "    print(f'{err}')\n",
    "    \n",
    "    \n",
    "try:\n",
    "    cthulhu.fly()\n",
    "except AttributeError as err:\n",
    "    print(f'{err}')\n",
    "    \n",
    "    \n",
    "cthulhu.walk().walk().walk().walk().walk().display_health()"
   ]
  }
 ],
 "metadata": {
  "kernelspec": {
   "display_name": "Python 3",
   "language": "python",
   "name": "python3"
  },
  "language_info": {
   "codemirror_mode": {
    "name": "ipython",
    "version": 3
   },
   "file_extension": ".py",
   "mimetype": "text/x-python",
   "name": "python",
   "nbconvert_exporter": "python",
   "pygments_lexer": "ipython3",
   "version": "3.6.5"
  }
 },
 "nbformat": 4,
 "nbformat_minor": 2
}
