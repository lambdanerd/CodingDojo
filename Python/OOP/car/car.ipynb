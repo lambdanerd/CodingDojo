{
 "cells": [
  {
   "cell_type": "markdown",
   "metadata": {},
   "source": [
    "Create a class called  Car. In the `__init__()`, allow the user to specify the following attributes: `price`, `speed`, `fuel`, `mileage`. If the `price` is greater than 10,000, set the tax to be 15%. Otherwise, set the tax to be 12%.\n",
    "\n",
    "Create six different instances of the class `Car`. In the class have a method called `display_all()` that returns all the information about the car as a string. In your `__init__()`, call this `display_all()` method to display information about the car once the attributes have been defined."
   ]
  },
  {
   "cell_type": "code",
   "execution_count": 1,
   "metadata": {},
   "outputs": [
    {
     "name": "stdout",
     "output_type": "stream",
     "text": [
      "Price: 2000, Speed: super fast, Fuel: lots, Mileage: heh, none. no mileage at all. nope!, Tax: 0.12\n",
      "\n",
      "\n",
      "Price: 25000, Speed: crazy fast, Fuel: some, Mileage: uuuhhhh 0, Tax: 0.15\n",
      "\n",
      "\n",
      "Price: 10000, Speed: 420, Fuel: 69, Mileage: 0, Tax: 0.12\n",
      "\n",
      "\n",
      "Price: 7000, Speed: 1, Fuel: 2, Mileage: 3, Tax: 0.12\n",
      "\n",
      "\n",
      "Price: 1000, Speed: VROOM, Fuel: meh, a bit. not much., Mileage: 100,000,000 miles... sorry pal., Tax: 0.12\n",
      "\n",
      "\n",
      "Price: 23500, Speed: 247, Fuel: 16, Mileage: 7500, Tax: 0.15\n",
      "\n",
      "\n"
     ]
    },
    {
     "data": {
      "text/plain": [
       "<__main__.Car at 0x108118470>"
      ]
     },
     "execution_count": 1,
     "metadata": {},
     "output_type": "execute_result"
    }
   ],
   "source": [
    "class Car:\n",
    "    def __init__(self, price, speed, fuel, mileage):\n",
    "        self.price = price\n",
    "        self.speed = speed\n",
    "        self.fuel = fuel\n",
    "        self.mileage = mileage\n",
    "        self.tax = 0.15 if price > 10000 else 0.12\n",
    "    \n",
    "    def display_all(self):\n",
    "        print(f'Price: {self.price}, Speed: {self.speed}, Fuel: {self.fuel}, Mileage: {self.mileage}, Tax: {self.tax}\\n\\n')\n",
    "        return self\n",
    "    \n",
    "        \n",
    "Car(2000, \"super fast\", \"lots\", \"heh, none. no mileage at all. nope!\").display_all()\n",
    "\n",
    "\n",
    "Car(25000, \"crazy fast\", \"some\", \"uuuhhhh 0\").display_all()\n",
    "\n",
    "\n",
    "Car(10000, 420, 69, 0).display_all()\n",
    "\n",
    "\n",
    "Car(7000, 1, 2, 3).display_all()\n",
    "\n",
    "\n",
    "Car(1000, \"VROOM\", \"meh, a bit. not much.\", \"100,000,000 miles... sorry pal.\").display_all()\n",
    "\n",
    "\n",
    "Car(23500, 247, 16, 7500).display_all()"
   ]
  }
 ],
 "metadata": {
  "kernelspec": {
   "display_name": "Python 3",
   "language": "python",
   "name": "python3"
  },
  "language_info": {
   "codemirror_mode": {
    "name": "ipython",
    "version": 3
   },
   "file_extension": ".py",
   "mimetype": "text/x-python",
   "name": "python",
   "nbconvert_exporter": "python",
   "pygments_lexer": "ipython3",
   "version": "3.6.5"
  }
 },
 "nbformat": 4,
 "nbformat_minor": 2
}
