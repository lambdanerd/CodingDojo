{
 "cells": [
  {
   "cell_type": "code",
   "execution_count": 2,
   "metadata": {},
   "outputs": [
    {
     "name": "stdout",
     "output_type": "stream",
     "text": [
      "Riding!\n",
      "Riding!\n",
      "Riding!\n",
      "Reversing...\n",
      "This bike has 25 miles on it, can reach a maximum speed of 69mph, and costs $420.\n",
      "Riding!\n",
      "Riding!\n",
      "Reversing...\n",
      "Reversing...\n",
      "This bike has 10 miles on it, can reach a maximum speed of 30mph, and costs $412.\n",
      "Reversing...\n",
      "Reversing...\n",
      "Reversing...\n",
      "This bike has -15 miles on it, can reach a maximum speed of 10mph, and costs $250.\n"
     ]
    },
    {
     "data": {
      "text/plain": [
       "<__main__.Bike at 0x105867400>"
      ]
     },
     "execution_count": 2,
     "metadata": {},
     "output_type": "execute_result"
    }
   ],
   "source": [
    "class Bike:\n",
    "    def __init__(self, price, max_speed):\n",
    "        self.price = price\n",
    "        self.max_speed = max_speed\n",
    "        self.mileage = 0\n",
    "    \n",
    "    def display_info(self):\n",
    "        print(f'This bike has {self.mileage} miles on it, can reach a maximum speed of {self.max_speed}mph, and costs ${self.price}.')\n",
    "        return self\n",
    "    \n",
    "    def ride(self):\n",
    "        print('Riding!')\n",
    "        self.mileage += 10\n",
    "        return self\n",
    "    \n",
    "    def reverse(self):\n",
    "        print('Reversing...')\n",
    "        self.mileage -= 5\n",
    "        return self\n",
    "        \n",
    "        \n",
    "first_bike = Bike(420, 69)\n",
    "second_bike = Bike(412, 30)\n",
    "third_bike = Bike(250, 10)\n",
    "\n",
    "\n",
    "first_bike.ride().ride().ride().reverse().display_info()\n",
    "\n",
    "\n",
    "second_bike.ride().ride().reverse().reverse().display_info()\n",
    "\n",
    "\n",
    "third_bike.reverse().reverse().reverse().display_info()"
   ]
  },
  {
   "cell_type": "code",
   "execution_count": 4,
   "metadata": {},
   "outputs": [
    {
     "name": "stdout",
     "output_type": "stream",
     "text": [
      "Reversing...\n",
      "Reversing...\n",
      "Reversing...\n",
      "This bike has 0 miles on it, can reach a maximum speed of 19mph, and costs $240.\n"
     ]
    },
    {
     "data": {
      "text/plain": [
       "<__main__.NoNegativeMileageBike at 0x10586c780>"
      ]
     },
     "execution_count": 4,
     "metadata": {},
     "output_type": "execute_result"
    }
   ],
   "source": [
    "class NoNegativeMileageBike:\n",
    "    def __init__(self, price, max_speed):\n",
    "        self.price = price\n",
    "        self.max_speed = max_speed\n",
    "        self.mileage = 0\n",
    "    \n",
    "    def display_info(self):\n",
    "        print(f'This bike has {self.mileage} miles on it, can reach a maximum speed of {self.max_speed}mph, and costs ${self.price}.')\n",
    "        return self\n",
    "    \n",
    "    def ride(self):\n",
    "        print('Riding!')\n",
    "        self.mileage += 10\n",
    "        return self\n",
    "    \n",
    "    def reverse(self):\n",
    "        print('Reversing...')\n",
    "        if self.mileage < 5:\n",
    "            return self\n",
    "        else:\n",
    "            self.mileage -= 5\n",
    "            return self\n",
    "    \n",
    "\n",
    "fourth_bike = NoNegativeMileageBike(240, 19)\n",
    "\n",
    "\n",
    "fourth_bike.reverse().reverse().reverse().display_info()"
   ]
  }
 ],
 "metadata": {
  "kernelspec": {
   "display_name": "Python 3",
   "language": "python",
   "name": "python3"
  },
  "language_info": {
   "codemirror_mode": {
    "name": "ipython",
    "version": 3
   },
   "file_extension": ".py",
   "mimetype": "text/x-python",
   "name": "python",
   "nbconvert_exporter": "python",
   "pygments_lexer": "ipython3",
   "version": "3.6.5"
  }
 },
 "nbformat": 4,
 "nbformat_minor": 2
}
