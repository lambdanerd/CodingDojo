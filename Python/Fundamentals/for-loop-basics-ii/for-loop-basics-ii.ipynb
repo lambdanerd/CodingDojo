{
 "cells": [
  {
   "cell_type": "markdown",
   "metadata": {},
   "source": [
    "### Biggie Size\n",
    "Given an array, write a function that changes all positive\n",
    "numbers in the array to \"big\". Example: `makeItBig([-1, 3, 5, -5])` returns that same array, changed to `[-1, \"big\", \"big\", -5]`."
   ]
  },
  {
   "cell_type": "code",
   "execution_count": 1,
   "metadata": {},
   "outputs": [
    {
     "name": "stdout",
     "output_type": "stream",
     "text": [
      "[-1, 'big', 'big', -5]\n"
     ]
    }
   ],
   "source": [
    "def biggie_slice(arr):\n",
    "    return list(map((lambda num: num if num < 0 else \"big\"), arr))\n",
    "\n",
    "\n",
    "print(biggie_slice([-1, 3, 5, -5]))"
   ]
  },
  {
   "cell_type": "markdown",
   "metadata": {},
   "source": [
    "### Count Positives\n",
    "Given an array of numbers, create a function to replace last\n",
    "value with number of positive values. Example, countPositives([-1,1,1,1])\n",
    "changes array to [-1,1,1,3] and returns it.  (Note that zero is not considered\n",
    "to be a positive number)."
   ]
  },
  {
   "cell_type": "code",
   "execution_count": 2,
   "metadata": {},
   "outputs": [
    {
     "name": "stdout",
     "output_type": "stream",
     "text": [
      "[-1, 1, 1, 3]\n"
     ]
    }
   ],
   "source": [
    "def count_positives(arr):\n",
    "    postives = len(list(filter((lambda num: num > 0), arr)))\n",
    "    arr[len(arr) - 1] = postives\n",
    "    return arr\n",
    "\n",
    "\n",
    "print(count_positives([-1, 1, 1, 1]))"
   ]
  },
  {
   "cell_type": "markdown",
   "metadata": {},
   "source": [
    "### SumTotal\n",
    "Create a function that takes an array as an argument and returns\n",
    "the sum of all the values in the array.  For example `sumTotal([1,2,3,4])`\n",
    "should return `10`."
   ]
  },
  {
   "cell_type": "code",
   "execution_count": 3,
   "metadata": {
    "scrolled": true
   },
   "outputs": [
    {
     "name": "stdout",
     "output_type": "stream",
     "text": [
      "10\n"
     ]
    }
   ],
   "source": [
    "from functools import reduce\n",
    "\n",
    "\n",
    "def sum_total(arr):\n",
    "    return reduce((lambda acc, val: acc + val), arr)\n",
    "    \n",
    "\n",
    "print(sum_total([1, 2, 3, 4]))"
   ]
  },
  {
   "cell_type": "markdown",
   "metadata": {},
   "source": [
    "### Average\n",
    "Create a function that takes an array as an argument and returns the\n",
    "average of all the values in the array.  For example `multiples([1,2,3,4])`\n",
    "should return `2.5`"
   ]
  },
  {
   "cell_type": "code",
   "execution_count": 4,
   "metadata": {},
   "outputs": [
    {
     "name": "stdout",
     "output_type": "stream",
     "text": [
      "2.5\n"
     ]
    }
   ],
   "source": [
    "def avg(arr):\n",
    "    return sum_total(arr) / len(arr)\n",
    "\n",
    "\n",
    "print(avg([1, 2, 3, 4]))"
   ]
  },
  {
   "cell_type": "markdown",
   "metadata": {},
   "source": [
    "### Length\n",
    "Create a function that takes an array as an argument and returns the\n",
    "length of the array.  For example `length([1,2,3,4])` should return `4`."
   ]
  },
  {
   "cell_type": "code",
   "execution_count": 5,
   "metadata": {},
   "outputs": [
    {
     "name": "stdout",
     "output_type": "stream",
     "text": [
      "4\n"
     ]
    }
   ],
   "source": [
    "def length_prime_plus_plus(arr):\n",
    "    return reduce((lambda acc, _: acc + 1), arr)\n",
    "\n",
    "\n",
    "print(length_prime_plus_plus([1, 2, 3, 4]))"
   ]
  },
  {
   "cell_type": "markdown",
   "metadata": {},
   "source": [
    "### Minimum\n",
    "Create a function that takes an array as an argument and returns the\n",
    "minimum value in the array.  If the passed array is empty, have the function\n",
    "return `False`.  For example `minimum([1,2,3,4])` should return `1`;\n",
    "`minimum([-1,-2,-3])` should return `-3`."
   ]
  },
  {
   "cell_type": "code",
   "execution_count": 6,
   "metadata": {},
   "outputs": [
    {
     "name": "stdout",
     "output_type": "stream",
     "text": [
      "-2\n"
     ]
    }
   ],
   "source": [
    "def minimum(arr):\n",
    "    return min(arr)\n",
    "\n",
    "\n",
    "print(minimum([-1, 2, 3, -2, 1]))"
   ]
  },
  {
   "cell_type": "markdown",
   "metadata": {},
   "source": [
    "### Maximum\n",
    "Create a function that takes an array as an argument and returns the\n",
    "maximum value in the array.  If the passed array is empty, have the function\n",
    "return `False`.  For example `maximum([1,2,3,4])` should return `4`;\n",
    "`maximum([-1,-2,-3])` should return `-1`."
   ]
  },
  {
   "cell_type": "code",
   "execution_count": 7,
   "metadata": {},
   "outputs": [
    {
     "name": "stdout",
     "output_type": "stream",
     "text": [
      "3\n"
     ]
    }
   ],
   "source": [
    "def maximum(arr):\n",
    "    return max(arr)\n",
    "\n",
    "\n",
    "print(maximum([-1, 2, 3, -2, 1]))"
   ]
  },
  {
   "cell_type": "markdown",
   "metadata": {},
   "source": [
    "### UltimateAnalyze\n",
    "Create a function that takes an array as an argument and\n",
    "returns a dictionary that has the `sum_total()`, average, minimum, maximum and\n",
    "length of the array."
   ]
  },
  {
   "cell_type": "code",
   "execution_count": 8,
   "metadata": {},
   "outputs": [
    {
     "name": "stdout",
     "output_type": "stream",
     "text": [
      "{'sum': 78, 'average': 11.142857142857142, 'minimum': 5, 'maximum': 30, 'length': 11}\n"
     ]
    }
   ],
   "source": [
    "def ultimate_array(arr):\n",
    "    return {'sum': sum_total(arr), 'average': avg(arr), 'minimum': minimum(arr), 'maximum': maximum(arr), 'length': length_prime_plus_plus(arr)}\n",
    "\n",
    "\n",
    "print(ultimate_array([5, 10, 6, 8, 30, 7, 12]))"
   ]
  },
  {
   "cell_type": "markdown",
   "metadata": {},
   "source": [
    "### ReverseList\n",
    "Create a function that takes an array as an argument and returns\n",
    "an array in a reversed order.  Do this without creating an empty temporary\n",
    "array.  For example `reverse([1,2,3,4])` should return `[4,3,2,1]`. This challenge\n",
    "is known to appear during basic technical interviews."
   ]
  },
  {
   "cell_type": "code",
   "execution_count": 9,
   "metadata": {},
   "outputs": [
    {
     "name": "stdout",
     "output_type": "stream",
     "text": [
      "[42, 69, 50, 1]\n"
     ]
    }
   ],
   "source": [
    "def reverse_list(arr):\n",
    "    return arr[::-1]\n",
    "\n",
    "\n",
    "print(reverse_list([1, 50, 69, 42]))"
   ]
  }
 ],
 "metadata": {
  "kernelspec": {
   "display_name": "Python 3",
   "language": "python",
   "name": "python3"
  },
  "language_info": {
   "codemirror_mode": {
    "name": "ipython",
    "version": 3
   },
   "file_extension": ".py",
   "mimetype": "text/x-python",
   "name": "python",
   "nbconvert_exporter": "python",
   "pygments_lexer": "ipython3",
   "version": "3.6.5"
  }
 },
 "nbformat": 4,
 "nbformat_minor": 2
}
