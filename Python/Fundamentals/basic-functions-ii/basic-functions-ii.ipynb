{
 "cells": [
  {
   "cell_type": "markdown",
   "metadata": {},
   "source": [
    "# Basic Functions II"
   ]
  },
  {
   "cell_type": "markdown",
   "metadata": {},
   "source": [
    "### Countdown\n",
    "Create a function that accepts a number as an input. Return a\n",
    "new array that counts down by one, from the number (as arrays 'zero'th\n",
    "element) down to 0 (as the last element). For example `countDown(5)` should return `[5, 4, 3, 2, 1, 0]`."
   ]
  },
  {
   "cell_type": "code",
   "execution_count": 1,
   "metadata": {},
   "outputs": [
    {
     "name": "stdout",
     "output_type": "stream",
     "text": [
      "[5, 4, 3, 2, 1, 0]\n"
     ]
    }
   ],
   "source": [
    "def countdown(num):\n",
    "    return [x for x in range(num, -1, -1)]\n",
    "\n",
    "\n",
    "print(countdown(5))"
   ]
  },
  {
   "cell_type": "markdown",
   "metadata": {},
   "source": [
    "### Print and Return\n",
    "Your function will receive an array with two numbers. Print the first value and return the second."
   ]
  },
  {
   "cell_type": "code",
   "execution_count": 2,
   "metadata": {},
   "outputs": [
    {
     "name": "stdout",
     "output_type": "stream",
     "text": [
      "1\n",
      "2\n"
     ]
    }
   ],
   "source": [
    "def print_ret(arr):\n",
    "    head, *tail = arr\n",
    "    print(head)\n",
    "    return(tail[0])\n",
    "\n",
    "\n",
    "print(print_ret([1, 2, 3, 4, 5, 6, 7, 8, 44, 21, 15, 7, 63, 14, 15]))"
   ]
  },
  {
   "cell_type": "markdown",
   "metadata": {},
   "source": [
    "### First Plus Length\n",
    "Given an array, return the sum of the first value in\n",
    "the array and the array's length."
   ]
  },
  {
   "cell_type": "code",
   "execution_count": 3,
   "metadata": {},
   "outputs": [
    {
     "name": "stdout",
     "output_type": "stream",
     "text": [
      "16\n"
     ]
    }
   ],
   "source": [
    "def first_plus_length(arr):\n",
    "    return arr[0] + len(arr)\n",
    "\n",
    "\n",
    "print(first_plus_length([1, 2, 3, 4, 5, 6, 7, 8, 44, 21, 15, 7, 63, 14, 15]))"
   ]
  },
  {
   "cell_type": "markdown",
   "metadata": {},
   "source": [
    "### Values Greater Than Second\n",
    "Write a function that accepts any array, and\n",
    "returns a new array with the array values that are greater than its 2nd\n",
    "value. Print how many values this is. If the array is only element long,\n",
    "have the function `return False`."
   ]
  },
  {
   "cell_type": "code",
   "execution_count": 4,
   "metadata": {},
   "outputs": [
    {
     "name": "stdout",
     "output_type": "stream",
     "text": [
      "[44, 21, 63]\n"
     ]
    }
   ],
   "source": [
    "def greater_than_second(arr):\n",
    "    return [x for x in arr if x > len(arr)]\n",
    "\n",
    "\n",
    "print(greater_than_second([1, 2, 3, 4, 5, 6, 7, 8, 44, 21, 15, 7, 63, 14, 15]))"
   ]
  },
  {
   "cell_type": "markdown",
   "metadata": {},
   "source": [
    "### This Length, That Value\n",
    "Write a function called lengthAndValue which\n",
    "accepts two parameters, size and value. This function should take two\n",
    "numbers and return a list of length size containing only the number in\n",
    "value. For example, `lengthAndValue(4,7)` should return `[7,7,7,7]`."
   ]
  },
  {
   "cell_type": "code",
   "execution_count": 5,
   "metadata": {},
   "outputs": [
    {
     "name": "stdout",
     "output_type": "stream",
     "text": [
      "[7, 7, 7, 7]\n"
     ]
    }
   ],
   "source": [
    "def length_and_value(size, value):\n",
    "    return list(map((lambda _: value), [0] * size))\n",
    "\n",
    "\n",
    "print(length_and_value(4, 7))"
   ]
  }
 ],
 "metadata": {
  "kernelspec": {
   "display_name": "Python 3",
   "language": "python",
   "name": "python3"
  },
  "language_info": {
   "codemirror_mode": {
    "name": "ipython",
    "version": 3
   },
   "file_extension": ".py",
   "mimetype": "text/x-python",
   "name": "python",
   "nbconvert_exporter": "python",
   "pygments_lexer": "ipython3",
   "version": "3.6.5"
  }
 },
 "nbformat": 4,
 "nbformat_minor": 2
}
