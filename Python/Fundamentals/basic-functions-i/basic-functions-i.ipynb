{
 "cells": [
  {
   "cell_type": "code",
   "execution_count": 15,
   "metadata": {
    "scrolled": true
   },
   "outputs": [
    {
     "name": "stdout",
     "output_type": "stream",
     "text": [
      "5\n"
     ]
    }
   ],
   "source": [
    "def a():\n",
    "    return 5\n",
    "\n",
    "\n",
    "print(a())\n",
    "\n",
    "# => 5"
   ]
  },
  {
   "cell_type": "code",
   "execution_count": 16,
   "metadata": {},
   "outputs": [
    {
     "name": "stdout",
     "output_type": "stream",
     "text": [
      "10\n"
     ]
    }
   ],
   "source": [
    "def b():\n",
    "    return 5\n",
    "\n",
    "\n",
    "print(b()+b())\n",
    "\n",
    "# => 10"
   ]
  },
  {
   "cell_type": "code",
   "execution_count": 17,
   "metadata": {},
   "outputs": [
    {
     "name": "stdout",
     "output_type": "stream",
     "text": [
      "5\n"
     ]
    }
   ],
   "source": [
    "def c():\n",
    "    return 5\n",
    "    return 10\n",
    "\n",
    "\n",
    "print(c())\n",
    "\n",
    "# => 5"
   ]
  },
  {
   "cell_type": "code",
   "execution_count": 18,
   "metadata": {},
   "outputs": [
    {
     "name": "stdout",
     "output_type": "stream",
     "text": [
      "5\n"
     ]
    }
   ],
   "source": [
    "def d():\n",
    "    return 5\n",
    "    print(10)\n",
    "\n",
    "\n",
    "print(d())\n",
    "\n",
    "# => 5"
   ]
  },
  {
   "cell_type": "code",
   "execution_count": 19,
   "metadata": {},
   "outputs": [
    {
     "name": "stdout",
     "output_type": "stream",
     "text": [
      "5\n",
      "None\n"
     ]
    }
   ],
   "source": [
    "def e():\n",
    "    print(5)\n",
    "\n",
    "\n",
    "z = e()\n",
    "print(z)\n",
    "\n",
    "# => 5\n",
    "# => None"
   ]
  },
  {
   "cell_type": "code",
   "execution_count": 21,
   "metadata": {
    "scrolled": true
   },
   "outputs": [
    {
     "name": "stdout",
     "output_type": "stream",
     "text": [
      "3\n",
      "5\n"
     ]
    },
    {
     "ename": "TypeError",
     "evalue": "unsupported operand type(s) for +: 'NoneType' and 'NoneType'",
     "output_type": "error",
     "traceback": [
      "\u001b[0;31m---------------------------------------------------------------------------\u001b[0m",
      "\u001b[0;31mTypeError\u001b[0m                                 Traceback (most recent call last)",
      "\u001b[0;32m<ipython-input-21-e762c03a1c6f>\u001b[0m in \u001b[0;36m<module>\u001b[0;34m()\u001b[0m\n\u001b[1;32m      3\u001b[0m \u001b[0;34m\u001b[0m\u001b[0m\n\u001b[1;32m      4\u001b[0m \u001b[0;34m\u001b[0m\u001b[0m\n\u001b[0;32m----> 5\u001b[0;31m \u001b[0mprint\u001b[0m\u001b[0;34m(\u001b[0m\u001b[0mf\u001b[0m\u001b[0;34m(\u001b[0m\u001b[0;36m1\u001b[0m\u001b[0;34m,\u001b[0m \u001b[0;36m2\u001b[0m\u001b[0;34m)\u001b[0m \u001b[0;34m+\u001b[0m \u001b[0mf\u001b[0m\u001b[0;34m(\u001b[0m\u001b[0;36m2\u001b[0m\u001b[0;34m,\u001b[0m \u001b[0;36m3\u001b[0m\u001b[0;34m)\u001b[0m\u001b[0;34m)\u001b[0m\u001b[0;34m\u001b[0m\u001b[0m\n\u001b[0m\u001b[1;32m      6\u001b[0m \u001b[0;34m\u001b[0m\u001b[0m\n\u001b[1;32m      7\u001b[0m \u001b[0;31m# => None ✗\u001b[0m\u001b[0;34m\u001b[0m\u001b[0;34m\u001b[0m\u001b[0m\n",
      "\u001b[0;31mTypeError\u001b[0m: unsupported operand type(s) for +: 'NoneType' and 'NoneType'"
     ]
    }
   ],
   "source": [
    "def f(b, c):\n",
    "    print(b+c)\n",
    "\n",
    "\n",
    "print(f(1, 2) + f(2, 3))\n",
    "\n",
    "# => None ✗"
   ]
  },
  {
   "cell_type": "code",
   "execution_count": 22,
   "metadata": {},
   "outputs": [
    {
     "name": "stdout",
     "output_type": "stream",
     "text": [
      "25\n"
     ]
    }
   ],
   "source": [
    "def g(b, c):\n",
    "    return str(b)+str(c)\n",
    "\n",
    "\n",
    "print(g(2, 5))\n",
    "\n",
    "# => \"25\" ✗"
   ]
  },
  {
   "cell_type": "code",
   "execution_count": 23,
   "metadata": {},
   "outputs": [
    {
     "name": "stdout",
     "output_type": "stream",
     "text": [
      "<function h at 0x104c6c620>\n"
     ]
    }
   ],
   "source": [
    "def h():\n",
    "    b = 100\n",
    "    print(b)\n",
    "    if b < 10:\n",
    "        return 5\n",
    "    else:\n",
    "        return 10\n",
    "    return 7\n",
    "\n",
    "\n",
    "print(h)\n",
    "\n",
    "# => <something about functions or maybe a reference number or memory address or something>"
   ]
  },
  {
   "cell_type": "code",
   "execution_count": 24,
   "metadata": {},
   "outputs": [
    {
     "name": "stdout",
     "output_type": "stream",
     "text": [
      "7\n",
      "14\n",
      "21\n"
     ]
    }
   ],
   "source": [
    "def i(b, c):\n",
    "    if b < c:\n",
    "        return 7\n",
    "    else:\n",
    "        return 14\n",
    "    return 3\n",
    "\n",
    "\n",
    "print(i(2, 3))\n",
    "print(i(5, 3))\n",
    "print(i(2, 3) + i(5, 3))\n",
    "\n",
    "# => 7\n",
    "# => 14\n",
    "# => 21"
   ]
  },
  {
   "cell_type": "code",
   "execution_count": 25,
   "metadata": {},
   "outputs": [
    {
     "name": "stdout",
     "output_type": "stream",
     "text": [
      "8\n"
     ]
    }
   ],
   "source": [
    "def j(b, c):\n",
    "    return b+c\n",
    "    return 10\n",
    "\n",
    "\n",
    "print(j(3, 5))\n",
    "\n",
    "# => 8"
   ]
  },
  {
   "cell_type": "code",
   "execution_count": 26,
   "metadata": {},
   "outputs": [
    {
     "name": "stdout",
     "output_type": "stream",
     "text": [
      "500\n",
      "500\n",
      "300\n",
      "500\n"
     ]
    }
   ],
   "source": [
    "y = 500\n",
    "print(y)\n",
    "\n",
    "\n",
    "def k():\n",
    "    y = 300\n",
    "    print(y)\n",
    "\n",
    "\n",
    "print(y)\n",
    "k()\n",
    "print(y)\n",
    "\n",
    "# => 500\n",
    "# => 500\n",
    "# => 300\n",
    "# => 300 ✗"
   ]
  },
  {
   "cell_type": "code",
   "execution_count": 27,
   "metadata": {},
   "outputs": [
    {
     "name": "stdout",
     "output_type": "stream",
     "text": [
      "500\n",
      "500\n",
      "300\n",
      "500\n"
     ]
    }
   ],
   "source": [
    "x = 500\n",
    "print(x)\n",
    "\n",
    "\n",
    "def l():\n",
    "    x = 300\n",
    "    print(x)\n",
    "    return x\n",
    "\n",
    "\n",
    "print(x)\n",
    "l()\n",
    "print(x)\n",
    "\n",
    "# => 500\n",
    "# => 500\n",
    "# => 300\n",
    "# => 300 ✗ ... dang, really thought the return might mutate x. Probably doesn't do that because x is not reassigned\n",
    "#              outside of the scope of l(). Oh hey, maybe the next one will do just that!"
   ]
  },
  {
   "cell_type": "code",
   "execution_count": 28,
   "metadata": {},
   "outputs": [
    {
     "name": "stdout",
     "output_type": "stream",
     "text": [
      "500\n",
      "500\n",
      "300\n",
      "300\n"
     ]
    }
   ],
   "source": [
    "w = 500\n",
    "print(w)\n",
    "\n",
    "\n",
    "def m():\n",
    "    w = 300\n",
    "    print(w)\n",
    "    return w\n",
    "\n",
    "\n",
    "print(w)\n",
    "w = m()\n",
    "print(w)\n",
    "\n",
    "# => 500\n",
    "# => 500\n",
    "# => 300\n",
    "# => 300 ✓ nailed it."
   ]
  },
  {
   "cell_type": "code",
   "execution_count": 29,
   "metadata": {},
   "outputs": [
    {
     "name": "stdout",
     "output_type": "stream",
     "text": [
      "1\n",
      "3\n",
      "2\n"
     ]
    }
   ],
   "source": [
    "def n():\n",
    "    print(1)\n",
    "    o()\n",
    "    print(2)\n",
    "\n",
    "\n",
    "def o():\n",
    "    print(3)\n",
    "\n",
    "\n",
    "n()\n",
    "\n",
    "# => 1\n",
    "# => 3\n",
    "# => 2"
   ]
  },
  {
   "cell_type": "code",
   "execution_count": 30,
   "metadata": {},
   "outputs": [
    {
     "name": "stdout",
     "output_type": "stream",
     "text": [
      "1\n",
      "3\n",
      "5\n",
      "10\n"
     ]
    }
   ],
   "source": [
    "def p():\n",
    "    print(1)\n",
    "    x = q()\n",
    "    print(x)\n",
    "    return 10\n",
    "\n",
    "\n",
    "def q():\n",
    "    print(3)\n",
    "    return 5\n",
    "\n",
    "\n",
    "x = p()\n",
    "print(x)\n",
    "\n",
    "# => 1\n",
    "# => 3\n",
    "# => 5\n",
    "# => 10"
   ]
  }
 ],
 "metadata": {
  "kernelspec": {
   "display_name": "Python 3",
   "language": "python",
   "name": "python3"
  },
  "language_info": {
   "codemirror_mode": {
    "name": "ipython",
    "version": 3
   },
   "file_extension": ".py",
   "mimetype": "text/x-python",
   "name": "python",
   "nbconvert_exporter": "python",
   "pygments_lexer": "ipython3",
   "version": "3.6.5"
  }
 },
 "nbformat": 4,
 "nbformat_minor": 2
}
